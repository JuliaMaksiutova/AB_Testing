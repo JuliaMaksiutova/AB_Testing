{
  "nbformat": 4,
  "nbformat_minor": 0,
  "metadata": {
    "colab": {
      "provenance": [],
      "authorship_tag": "ABX9TyMSJucnrORg3ZljcDadtFcJ"
    },
    "kernelspec": {
      "name": "python3",
      "display_name": "Python 3"
    },
    "language_info": {
      "name": "python"
    }
  },
  "cells": [
    {
      "cell_type": "markdown",
      "source": [
        "<p><font align = 'justify' size=\"10\" color=\"Pink\" face=\"Calibri\" color=\"RedOrange\">Homework9</font></p>"
      ],
      "metadata": {
        "id": "rnaO1FQBdhRq"
      }
    },
    {
      "cell_type": "code",
      "source": [
        "!pip install bootstrapped"
      ],
      "metadata": {
        "colab": {
          "base_uri": "https://localhost:8080/"
        },
        "id": "BKDUQw-JdoHH",
        "outputId": "47ed0c6f-b2e0-4c28-ab2b-c25111b11019"
      },
      "execution_count": 1,
      "outputs": [
        {
          "output_type": "stream",
          "name": "stdout",
          "text": [
            "Collecting bootstrapped\n",
            "  Downloading bootstrapped-0.0.2.tar.gz (11 kB)\n",
            "  Preparing metadata (setup.py) ... \u001b[?25l\u001b[?25hdone\n",
            "Requirement already satisfied: matplotlib>=1.5.3 in /usr/local/lib/python3.10/dist-packages (from bootstrapped) (3.7.1)\n",
            "Requirement already satisfied: numpy>=1.11.1 in /usr/local/lib/python3.10/dist-packages (from bootstrapped) (1.23.5)\n",
            "Requirement already satisfied: pandas>=0.18.1 in /usr/local/lib/python3.10/dist-packages (from bootstrapped) (1.5.3)\n",
            "Requirement already satisfied: contourpy>=1.0.1 in /usr/local/lib/python3.10/dist-packages (from matplotlib>=1.5.3->bootstrapped) (1.2.0)\n",
            "Requirement already satisfied: cycler>=0.10 in /usr/local/lib/python3.10/dist-packages (from matplotlib>=1.5.3->bootstrapped) (0.12.1)\n",
            "Requirement already satisfied: fonttools>=4.22.0 in /usr/local/lib/python3.10/dist-packages (from matplotlib>=1.5.3->bootstrapped) (4.45.1)\n",
            "Requirement already satisfied: kiwisolver>=1.0.1 in /usr/local/lib/python3.10/dist-packages (from matplotlib>=1.5.3->bootstrapped) (1.4.5)\n",
            "Requirement already satisfied: packaging>=20.0 in /usr/local/lib/python3.10/dist-packages (from matplotlib>=1.5.3->bootstrapped) (23.2)\n",
            "Requirement already satisfied: pillow>=6.2.0 in /usr/local/lib/python3.10/dist-packages (from matplotlib>=1.5.3->bootstrapped) (9.4.0)\n",
            "Requirement already satisfied: pyparsing>=2.3.1 in /usr/local/lib/python3.10/dist-packages (from matplotlib>=1.5.3->bootstrapped) (3.1.1)\n",
            "Requirement already satisfied: python-dateutil>=2.7 in /usr/local/lib/python3.10/dist-packages (from matplotlib>=1.5.3->bootstrapped) (2.8.2)\n",
            "Requirement already satisfied: pytz>=2020.1 in /usr/local/lib/python3.10/dist-packages (from pandas>=0.18.1->bootstrapped) (2023.3.post1)\n",
            "Requirement already satisfied: six>=1.5 in /usr/local/lib/python3.10/dist-packages (from python-dateutil>=2.7->matplotlib>=1.5.3->bootstrapped) (1.16.0)\n",
            "Building wheels for collected packages: bootstrapped\n",
            "  Building wheel for bootstrapped (setup.py) ... \u001b[?25l\u001b[?25hdone\n",
            "  Created wheel for bootstrapped: filename=bootstrapped-0.0.2-py2.py3-none-any.whl size=13932 sha256=68d4fad46065e14cc5b78fc4764f98785ceb1461e2c0f58821a7056e4db9c46a\n",
            "  Stored in directory: /root/.cache/pip/wheels/63/89/c7/09fd0b2ce6a69f0b5884df971b0de884500fe20837a8a3ab7f\n",
            "Successfully built bootstrapped\n",
            "Installing collected packages: bootstrapped\n",
            "Successfully installed bootstrapped-0.0.2\n"
          ]
        }
      ]
    },
    {
      "cell_type": "code",
      "source": [
        "import numpy as np\n",
        "import pandas as pd\n",
        "import scipy.stats as st\n",
        "from scipy.stats import chi2_contingency as chi2\n",
        "import math\n",
        "import statistics\n",
        "\n",
        "import matplotlib.pyplot as plt\n",
        "import seaborn as sns\n",
        "\n",
        "import bootstrapped.bootstrap as bs\n",
        "import bootstrapped.compare_functions as bs_compare\n",
        "import bootstrapped.stats_functions as bs_stats"
      ],
      "metadata": {
        "id": "BbB9dywsdstg"
      },
      "execution_count": 2,
      "outputs": []
    },
    {
      "cell_type": "code",
      "source": [
        "def out_text(text):\n",
        "    print(\"\\033[1m\\033[32m\\033[43m{}\\033[0m\".format(text))"
      ],
      "metadata": {
        "id": "OWldCfV6du8v"
      },
      "execution_count": 3,
      "outputs": []
    },
    {
      "cell_type": "markdown",
      "source": [
        "<p><font align = 'justify' size=\"8\" color=\"Orange\" face=\"Calibri\" color=\"RedOrange\">Task</font></p>"
      ],
      "metadata": {
        "id": "qq5heU__dxbG"
      }
    },
    {
      "cell_type": "markdown",
      "source": [
        "![Снимок экрана 2023-10-14 162245.png](data:image/png;base64,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)"
      ],
      "metadata": {
        "id": "htQ_nYp5d2EZ"
      }
    },
    {
      "cell_type": "markdown",
      "source": [
        "https://docs.google.com/spreadsheets/d/1-GA-TE6gTeV6hJiDDBNJLc9aOadzmdFDdIJSUtR4xgk/edit#gid=1733885895"
      ],
      "metadata": {
        "id": "qy2GMyLZd497"
      }
    },
    {
      "cell_type": "markdown",
      "source": [
        "https://www.kaggle.com/code/mursideyarkin/mobile-games-ab-testing-with-cookie-cats/input"
      ],
      "metadata": {
        "id": "1UwKnVEyd8SP"
      }
    },
    {
      "cell_type": "markdown",
      "source": [
        "<p><font align = 'justify' size=\"8\" color=\"Green\" face=\"Calibri\" color=\"RedOrange\">Import data</font></p>"
      ],
      "metadata": {
        "id": "tnPlrfvWd9-h"
      }
    },
    {
      "cell_type": "code",
      "source": [
        "df_retention_url = 'https://docs.google.com/spreadsheets/d/1lxTv3Yi8FlnjXM5QPRG49Hb-tt2dkt-eezoQQqxk-YQ/export?format=csv&gid=1733885895'"
      ],
      "metadata": {
        "id": "sK53kJXZeBnG"
      },
      "execution_count": 4,
      "outputs": []
    },
    {
      "cell_type": "code",
      "source": [
        "df_retention = pd.read_csv(df_retention_url)"
      ],
      "metadata": {
        "id": "Tz9nRRSteDZg"
      },
      "execution_count": 5,
      "outputs": []
    },
    {
      "cell_type": "markdown",
      "source": [
        "<p><font align = 'justify' size=\"8\" color=\"Green\" face=\"Calibri\" color=\"RedOrange\">Exploratory Data Analysis (EDA)</font></p>"
      ],
      "metadata": {
        "id": "ZhsutOqreGTO"
      }
    },
    {
      "cell_type": "code",
      "source": [
        "# Описание таблиц\n",
        "out_text('RETENTION')\n",
        "df_retention.info()\n",
        "print()"
      ],
      "metadata": {
        "colab": {
          "base_uri": "https://localhost:8080/"
        },
        "id": "evSwOTcNeIYH",
        "outputId": "6a44f164-6b93-4e94-9b39-a3b12b9b6352"
      },
      "execution_count": 6,
      "outputs": [
        {
          "output_type": "stream",
          "name": "stdout",
          "text": [
            "\u001b[1m\u001b[32m\u001b[43mRETENTION\u001b[0m\n",
            "<class 'pandas.core.frame.DataFrame'>\n",
            "RangeIndex: 90189 entries, 0 to 90188\n",
            "Data columns (total 5 columns):\n",
            " #   Column          Non-Null Count  Dtype \n",
            "---  ------          --------------  ----- \n",
            " 0   userid          90189 non-null  int64 \n",
            " 1   version         90189 non-null  object\n",
            " 2   sum_gamerounds  90189 non-null  int64 \n",
            " 3   retention_1     90189 non-null  int64 \n",
            " 4   retention_7     90189 non-null  int64 \n",
            "dtypes: int64(4), object(1)\n",
            "memory usage: 3.4+ MB\n",
            "\n"
          ]
        }
      ]
    },
    {
      "cell_type": "code",
      "source": [
        "print(df_retention.groupby(by='userid').sum()[['sum_gamerounds']].sort_values(by='sum_gamerounds', ascending=False))"
      ],
      "metadata": {
        "colab": {
          "base_uri": "https://localhost:8080/"
        },
        "id": "m4dXa6c9eNnT",
        "outputId": "b78eeb38-4d29-40a1-a567-24e2fceed726"
      },
      "execution_count": 7,
      "outputs": [
        {
          "output_type": "stream",
          "name": "stdout",
          "text": [
            "         sum_gamerounds\n",
            "userid                 \n",
            "6390605           49854\n",
            "871500             2961\n",
            "3271615            2640\n",
            "4832608            2438\n",
            "5346171            2294\n",
            "...                 ...\n",
            "6610805               0\n",
            "2639282               0\n",
            "6608718               0\n",
            "6604544               0\n",
            "4995815               0\n",
            "\n",
            "[90189 rows x 1 columns]\n"
          ]
        },
        {
          "output_type": "stream",
          "name": "stderr",
          "text": [
            "<ipython-input-7-07da72a05dbc>:1: FutureWarning: The default value of numeric_only in DataFrameGroupBy.sum is deprecated. In a future version, numeric_only will default to False. Either specify numeric_only or select only columns which should be valid for the function.\n",
            "  print(df_retention.groupby(by='userid').sum()[['sum_gamerounds']].sort_values(by='sum_gamerounds', ascending=False))\n"
          ]
        }
      ]
    },
    {
      "cell_type": "code",
      "source": [
        "plt.subplot(1, 2, 1)\n",
        "sns.histplot(data=df_retention, x='sum_gamerounds', bins=50)\n",
        "plt.subplot(1, 2, 2)\n",
        "sns.boxplot(data=df_retention['sum_gamerounds'])"
      ],
      "metadata": {
        "colab": {
          "base_uri": "https://localhost:8080/",
          "height": 467
        },
        "id": "NHYU6GlfePtz",
        "outputId": "c46359f5-a6f4-43ed-af6f-44f3b04c7c3c"
      },
      "execution_count": 8,
      "outputs": [
        {
          "output_type": "execute_result",
          "data": {
            "text/plain": [
              "<Axes: >"
            ]
          },
          "metadata": {},
          "execution_count": 8
        },
        {
          "output_type": "display_data",
          "data": {
            "text/plain": [
              "<Figure size 640x480 with 2 Axes>"
            ],
            "image/png": "[encoded data removed]"
          },
          "metadata": {}
        }
      ]
    },
    {
      "cell_type": "markdown",
      "source": [
        "<p><font align = 'justify' size=\"8\" color=\"Green\" face=\"Calibri\" color=\"RedOrange\">Transforming data</font></p>"
      ],
      "metadata": {
        "id": "eZzGs6TYeSjb"
      }
    },
    {
      "cell_type": "code",
      "source": [
        "# Удаление выбросов\n",
        "sum_of_retention_users = df_retention['userid'].nunique()\n",
        "sum_of_retention_users_str = str(sum_of_retention_users)\n",
        "df_retention_cut = df_retention[df_retention['sum_gamerounds'] < 300]\n",
        "sum_of_retention_cut_users = df_retention_cut['userid'].nunique()\n",
        "sum_of_retention_cut_users_str = str(sum_of_retention_cut_users)\n",
        "\n",
        "out_text('DATA FULL USERS')\n",
        "print(sum_of_retention_users_str)\n",
        "out_text('DATA CUT USERS')\n",
        "print(sum_of_retention_cut_users_str)\n",
        "\n",
        "sum_of_cut_outliers = df_retention['userid'].nunique() - df_retention_cut['userid'].nunique()\n",
        "outliers_number_str = str(sum_of_cut_outliers)\n",
        "share_of_outliers = sum_of_cut_outliers/df_retention['userid'].nunique()*100\n",
        "share_of_outliers = round(share_of_outliers, 2)\n",
        "outliers_share_str = ' (' + str(share_of_outliers) + '%)'\n",
        "out_text('OUTLIERS')\n",
        "print(outliers_number_str + outliers_share_str)"
      ],
      "metadata": {
        "colab": {
          "base_uri": "https://localhost:8080/"
        },
        "id": "m9tpYzrVeUvL",
        "outputId": "19905f66-f8b8-4798-d418-fa58733074bb"
      },
      "execution_count": 9,
      "outputs": [
        {
          "output_type": "stream",
          "name": "stdout",
          "text": [
            "\u001b[1m\u001b[32m\u001b[43mDATA FULL USERS\u001b[0m\n",
            "90189\n",
            "\u001b[1m\u001b[32m\u001b[43mDATA CUT USERS\u001b[0m\n",
            "87497\n",
            "\u001b[1m\u001b[32m\u001b[43mOUTLIERS\u001b[0m\n",
            "2692 (2.98%)\n"
          ]
        }
      ]
    },
    {
      "cell_type": "code",
      "source": [
        "df_fantom_users = df_retention_cut[(df_retention_cut['retention_7'] > 0) & (df_retention_cut['retention_1'] == 0)]\n",
        "out_text('FANTOM USERS')\n",
        "sum_of_fantom_users = df_fantom_users['userid'].nunique()\n",
        "sum_of_fantom_users_str = str(sum_of_fantom_users)\n",
        "\n",
        "share_of_fantom_users = (sum_of_fantom_users/sum_of_retention_users)*100\n",
        "share_of_fantom_users = round(share_of_fantom_users, 2)\n",
        "share_of_fantom_users_str = ' (' + str(share_of_fantom_users) + '%)'\n",
        "\n",
        "print(sum_of_fantom_users_str + share_of_fantom_users_str)"
      ],
      "metadata": {
        "colab": {
          "base_uri": "https://localhost:8080/"
        },
        "id": "przMtv5XeXGI",
        "outputId": "1b912fd2-a430-43ba-df77-f5231e03f995"
      },
      "execution_count": 10,
      "outputs": [
        {
          "output_type": "stream",
          "name": "stdout",
          "text": [
            "\u001b[1m\u001b[32m\u001b[43mFANTOM USERS\u001b[0m\n",
            "3486 (3.87%)\n"
          ]
        }
      ]
    },
    {
      "cell_type": "code",
      "source": [
        "drop_index = df_retention_cut[(df_retention_cut['retention_7'] > 0) & (df_retention_cut['retention_1'] == 0)].index\n",
        "df_clean = df_retention_cut.drop(index=drop_index)\n",
        "sum_of_clean_users = df_clean['userid'].nunique()\n",
        "sum_of_clean_users_str = str(sum_of_clean_users)\n",
        "\n",
        "out_text('CLEAN DATA USERS')\n",
        "print(sum_of_clean_users_str)\n",
        "\n",
        "out_text('SHARE OF CLEAN USERS')\n",
        "share_of_clean_data = (sum_of_clean_users/sum_of_retention_users)*100\n",
        "share_of_clean_data = round(share_of_clean_data, 2)\n",
        "share_of_clean_data_str = str(share_of_clean_data)\n",
        "share_of_clean_users_str = sum_of_retention_users_str + '/' + sum_of_clean_users_str + ' = ' + share_of_clean_data_str + '%'\n",
        "print(share_of_clean_users_str)"
      ],
      "metadata": {
        "colab": {
          "base_uri": "https://localhost:8080/"
        },
        "id": "X2MfluTFeZc8",
        "outputId": "6761aa60-c2c1-49d0-86ea-57c5510422e0"
      },
      "execution_count": 11,
      "outputs": [
        {
          "output_type": "stream",
          "name": "stdout",
          "text": [
            "\u001b[1m\u001b[32m\u001b[43mCLEAN DATA USERS\u001b[0m\n",
            "84011\n",
            "\u001b[1m\u001b[32m\u001b[43mSHARE OF CLEAN USERS\u001b[0m\n",
            "90189/84011 = 93.15%\n"
          ]
        }
      ]
    },
    {
      "cell_type": "code",
      "source": [
        "plt.subplot(1, 2, 1)\n",
        "sns.histplot(data=df_clean, x='sum_gamerounds', bins=50)\n",
        "plt.subplot(1, 2, 2)\n",
        "sns.boxplot(data=df_clean['sum_gamerounds'])"
      ],
      "metadata": {
        "colab": {
          "base_uri": "https://localhost:8080/",
          "height": 467
        },
        "id": "Eq0oMJqzebjY",
        "outputId": "cc5cf353-6492-4fd2-ef25-8eb301bd6e25"
      },
      "execution_count": 12,
      "outputs": [
        {
          "output_type": "execute_result",
          "data": {
            "text/plain": [
              "<Axes: >"
            ]
          },
          "metadata": {},
          "execution_count": 12
        },
        {
          "output_type": "display_data",
          "data": {
            "text/plain": [
              "<Figure size 640x480 with 2 Axes>"
            ],
            "image/png": "[encoded data removed]"
          },
          "metadata": {}
        }
      ]
    },
    {
      "cell_type": "markdown",
      "source": [
        "<p><font align = 'justify' size=\"8\" color=\"Green\" face=\"Calibri\" color=\"RedOrange\">Analisys</font></p>"
      ],
      "metadata": {
        "id": "Sxu7_kQteeha"
      }
    },
    {
      "cell_type": "code",
      "source": [
        "sample_a = df_clean[df_clean['version'] == 'gate_30']\n",
        "sample_b = df_clean[df_clean['version'] == 'gate_40']"
      ],
      "metadata": {
        "id": "k762yMyMefnq"
      },
      "execution_count": 13,
      "outputs": []
    },
    {
      "cell_type": "code",
      "source": [
        "b = bs.bootstrap_ab(sample_a['sum_gamerounds'].values, sample_b['sum_gamerounds'].values, stat_func=bs_stats.mean, compare_func=bs_compare.difference, alpha=0.05, num_iterations=5_000)"
      ],
      "metadata": {
        "id": "0xoBLmeQehc9"
      },
      "execution_count": 14,
      "outputs": []
    },
    {
      "cell_type": "code",
      "source": [
        "print(b.lower_bound, b.upper_bound)"
      ],
      "metadata": {
        "colab": {
          "base_uri": "https://localhost:8080/"
        },
        "id": "mjlcRq0XekvL",
        "outputId": "fe3cf9c4-09a3-48a2-8347-ba04ca99da84"
      },
      "execution_count": 15,
      "outputs": [
        {
          "output_type": "stream",
          "name": "stdout",
          "text": [
            "-0.7205501367188424 0.7119263680750808\n"
          ]
        }
      ]
    },
    {
      "cell_type": "code",
      "source": [
        "# Распределение не нормальное\n",
        "result = st.mannwhitneyu(sample_a['sum_gamerounds'], sample_b['sum_gamerounds'])\n",
        "print(result)"
      ],
      "metadata": {
        "colab": {
          "base_uri": "https://localhost:8080/"
        },
        "id": "TQUBjOOfemOT",
        "outputId": "c3a6919d-892d-4cdd-df86-d8da28512a07"
      },
      "execution_count": 16,
      "outputs": [
        {
          "output_type": "stream",
          "name": "stdout",
          "text": [
            "MannwhitneyuResult(statistic=888381416.0, pvalue=0.07557696030116652)\n"
          ]
        }
      ]
    },
    {
      "cell_type": "markdown",
      "source": [
        "<p><font align = 'justify' size=\"8\" color=\"Green\" face=\"Calibri\" color=\"RedOrange\">Conclusion</font></p>\n",
        "<p align = 'justify'><font size=\"3\" color=\"DarkBlue\" face=\"Calibri\"><b>H0 подтверждается => Не выявлены статистически значимые различия между 'gate_30' и 'gate_40'.<br>\n",
        "Рекомендуется сохранить базовый вариант.</b></font></p>"
      ],
      "metadata": {
        "id": "t_zdsMzXeovC"
      }
    }
  ]
}